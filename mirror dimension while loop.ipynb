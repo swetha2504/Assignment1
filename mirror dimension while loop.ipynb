{
 "cells": [
  {
   "cell_type": "code",
   "execution_count": 2,
   "id": "d5c6eef9",
   "metadata": {},
   "outputs": [
    {
     "name": "stdout",
     "output_type": "stream",
     "text": [
      "Original word:  Geeks\n",
      " mirror word :  skeeG "
     ]
    }
   ],
   "source": [
    " str= \"Geeks\"\n",
    "reverse=\" \"\n",
    "print(\"Original word: \",str)\n",
    " while(len(str)>0):\n",
    "        a=str[-1]\n",
    "        str=str[:-1]\n",
    "        reverse+=a\n",
    "    \n",
    "print(\" mirror word :\",reverse,end=\" \")"
   ]
  },
  {
   "cell_type": "code",
   "execution_count": null,
   "id": "c464494d",
   "metadata": {},
   "outputs": [],
   "source": []
  }
 ],
 "metadata": {
  "kernelspec": {
   "display_name": "Python 3 (ipykernel)",
   "language": "python",
   "name": "python3"
  },
  "language_info": {
   "codemirror_mode": {
    "name": "ipython",
    "version": 3
   },
   "file_extension": ".py",
   "mimetype": "text/x-python",
   "name": "python",
   "nbconvert_exporter": "python",
   "pygments_lexer": "ipython3",
   "version": "3.10.9"
  }
 },
 "nbformat": 4,
 "nbformat_minor": 5
}
