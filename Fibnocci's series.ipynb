{
 "cells": [
  {
   "cell_type": "code",
   "execution_count": 34,
   "id": "7a5f54c5",
   "metadata": {},
   "outputs": [
    {
     "name": "stdout",
     "output_type": "stream",
     "text": [
      "fibnocci's series : 0 1 1 2 3 5 8 13 21 34 55 \n"
     ]
    }
   ],
   "source": [
    " num = 10\n",
    "n1,n2  = 0,1\n",
    " print(\"fibnocci's series :\",n1,n2,end=\" \") \n",
    "  \n",
    " for i in range(1,num) : \n",
    "        n3= n1 + n2 \n",
    "        n1 = n2\n",
    "        n2 = n3\n",
    "        print(n3, end=\" \")\n",
    "print()"
   ]
  },
  {
   "cell_type": "code",
   "execution_count": null,
   "id": "e6786791",
   "metadata": {},
   "outputs": [],
   "source": []
  },
  {
   "cell_type": "code",
   "execution_count": null,
   "id": "875fd666",
   "metadata": {},
   "outputs": [],
   "source": []
  }
 ],
 "metadata": {
  "kernelspec": {
   "display_name": "Python 3 (ipykernel)",
   "language": "python",
   "name": "python3"
  },
  "language_info": {
   "codemirror_mode": {
    "name": "ipython",
    "version": 3
   },
   "file_extension": ".py",
   "mimetype": "text/x-python",
   "name": "python",
   "nbconvert_exporter": "python",
   "pygments_lexer": "ipython3",
   "version": "3.10.9"
  }
 },
 "nbformat": 4,
 "nbformat_minor": 5
}
